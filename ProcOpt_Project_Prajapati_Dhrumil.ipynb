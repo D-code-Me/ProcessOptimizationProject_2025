{
  "cells": [
    {
      "cell_type": "markdown",
      "id": "59971d01",
      "metadata": {
        "id": "59971d01"
      },
      "source": [
        "# Process Optimization 2024: Course Project\n",
        "### The deadline for the project is **Thu 9th Jan 2025 , 23:59**."
      ]
    },
    {
      "cell_type": "markdown",
      "id": "be48caea",
      "metadata": {
        "id": "be48caea"
      },
      "source": [
        "## 1. Multiple choice **(24P)**\n",
        "Every question has four possible answers. Indicate the correct answers using `[x]`. Every single statement (true/false) is worth **1P**. If no answer is indicated, **0P** are awarded for the question."
      ]
    },
    {
      "cell_type": "markdown",
      "id": "5e9422f3",
      "metadata": {
        "id": "5e9422f3"
      },
      "source": [
        "#### a)   Which methods limit the step size?  **(4P)**\n",
        "\n",
        "- [ ]   Gauss-Newton\n",
        "- [X]   Levenberg-Marquard\n",
        "- [ ]   Newton's method\n",
        "- [X]   Trust region method"
      ]
    },
    {
      "cell_type": "markdown",
      "id": "f74861e1",
      "metadata": {
        "id": "f74861e1"
      },
      "source": [
        "#### b)   When is a local optimum a global optimum?  **(4P)**\n",
        "\n",
        "- [X]   linear objective, linear constraints\n",
        "- [ ]   linear objective, convex equality constraints\n",
        "- [ ]   convex objective, nonlinear inequality constraints\n",
        "- [X]   convex objective, convex inequality constraints"
      ]
    },
    {
      "cell_type": "markdown",
      "id": "5ce1e064",
      "metadata": {
        "id": "5ce1e064"
      },
      "source": [
        "#### c)   For which methods is the descent condition always fulfilled?  **(4P)**\n",
        "\n",
        "- [X]    Gradient descent\n",
        "- [ ]   Newton-Raphson\n",
        "- [X]   BFGS\n",
        "- [ ]   Gauss-Newton"
      ]
    },
    {
      "cell_type": "markdown",
      "id": "65a9e499",
      "metadata": {
        "id": "65a9e499"
      },
      "source": [
        "#### d)   Which interpretations of Newton's method are correct?  **(4P)**\n",
        "\n",
        "- [ ]   linear approximation of the objective\n",
        "- [ ]   linear approximation of the gradient\n",
        "- [X]   quadratic approximation of the objective\n",
        "- [ ]   quadratic approximation of the gradient"
      ]
    },
    {
      "cell_type": "markdown",
      "id": "f458b3f4",
      "metadata": {
        "id": "f458b3f4"
      },
      "source": [
        "#### e)   Which methods are suitable for problems with only equality constraints?  **(4P)**\n",
        "\n",
        "- [X]   reduced gradient method\n",
        "- [X]   active set method\n",
        "- [ ]   barrier functions\n",
        "- [ ]   penalty functions"
      ]
    },
    {
      "cell_type": "markdown",
      "id": "d2851a0d",
      "metadata": {
        "id": "d2851a0d"
      },
      "source": [
        "#### f)   Which steps are part of the active set algorithm?  **(4P)**\n",
        "\n",
        "- [X]   determine the acceptable search direction\n",
        "- [ ]   change the candidate solutions with random numbers\n",
        "- [ ]   partition the variables in dependent and independent variables\n",
        "- [X]   check the KKT conditions"
      ]
    },
    {
      "cell_type": "markdown",
      "id": "60aa4df6",
      "metadata": {
        "id": "60aa4df6"
      },
      "source": [
        "## 2. Questions **(20P)**"
      ]
    },
    {
      "cell_type": "markdown",
      "id": "b2b53472",
      "metadata": {
        "id": "b2b53472"
      },
      "source": [
        "### KKT conditions??\n",
        "#### a)   Consider the following optimization problem. Write and name the KKT conditions for this problem. Use the KKT conditions to solve this problem analytically. **(8P)**\n",
        "\n",
        "$\\mathrm{min} \\, \\,   x_1^2+x_2^2 $\n",
        "\n",
        "$\\mathrm{s.t}. \\, \\, x_1+x_2+1 = 0 $\n",
        "\n",
        "$ \\qquad \\,  2x_1-x_2 \\leq 0$\n",
        "\n",
        "$ \\qquad x_1,x_2 \\in \\mathbb{R}$"
      ]
    },
    {
      "cell_type": "markdown",
      "source": [
        "_ANSWER_\n",
        "<br/>\n",
        "\n",
        "$min f(x_1,x_2) = x_1^2+x_2^2$\n",
        "<br/>\n",
        "$g(x_1,x_2)=2x_1-x_2 \\leq 0$\n",
        "<br/>\n",
        "$h(x_1,x_2)=x_1+x_2+1=0$\n",
        "\n",
        "<br/>\n",
        "Lagrangian function : $L(x_1,x_2,λ,\\mu) = (x_1^2 + x_2^2) + λ(x_1+x_2+1) + \\mu(2x_1-x_2) = 0$\n",
        "\n",
        "<br/>\n",
        "\n",
        "KKT conditions:\n",
        "<br/>\n",
        "Stationary conditions gradient of lagrangian function equals zero.\n",
        "<br/> $\\frac{∂L}{∂x_1}=2x_1+λ+2μ=0$\n",
        "<br/> $\\frac{∂L}{∂x_2}=2x_2+λ-\\mu=0$\n",
        "<br/>\n",
        "Constraints feasiblity\n",
        "<br/>\n",
        "$h(x_1,x_2)=0$,\n",
        "$g(x_1,x_2)\\leq0$\n",
        "<br/>\n",
        "Dual feasibility\n",
        "<br/>\n",
        "$\\mu≥0$\n",
        "<br/>\n",
        "Complementarity Slackness <br>\n",
        "$\\mu(2x_1-x_2)=0$\n",
        "<br>\n",
        "### Case 1\n",
        "if $\\mu=0$ (inequality inactive)\n",
        "then $x_1=x_2$<br>\n",
        "$x_1=x_2=-\\frac12$<br>\n",
        "Feasible solution, $x_1=x_2=-\\frac12$, $λ=1, \\mu=0$\n",
        "<br>\n",
        "\n",
        "### Case 2\n",
        "if $\\mu>0$, then $x_1=\\frac{x_2}{2}$\n",
        "<br>\n",
        "we get $x_2=-\\frac23$ and $x_1=-\\frac13$ and $\\mu=-\\frac29$ <br>Since, we are getting $\\mu<0$, this case is infeasible.\n"
      ],
      "metadata": {
        "id": "8rW6wySTMSvP"
      },
      "id": "8rW6wySTMSvP"
    },
    {
      "cell_type": "markdown",
      "id": "9f9b1366",
      "metadata": {
        "id": "9f9b1366"
      },
      "source": [
        "### Newton methods\n",
        "#### b)   Derive the Newton-Raphson method from the Taylor expansion of the gradient. Explicitly state the iteration update. **(4P)**"
      ]
    },
    {
      "cell_type": "markdown",
      "id": "4665f4ae",
      "metadata": {
        "id": "4665f4ae"
      },
      "source": [
        "_your answer here_\n",
        "\n",
        "<br>\n",
        "Main idea of Newton-Raphson method is to do Quadratic approximation of objective function.\n",
        "<br>\n",
        "Necessary optimality condition in order to converge is,$F_x(x)=0$\n",
        "\n",
        "<br>\n",
        "Tylor series expansion of $F_x(x)$,\n",
        "<br>\n",
        "$\\tilde{F_x}(x)=F_x(x^k)+F_{xx}(x^k)Δx^k+...+neglecting\\,higher\\,order\\,terms$\n",
        "<br>\n",
        "Root finding of $\\tilde{F_x}(x^k+Δx^k)=0$\n",
        "<br>\n",
        "$F_x(x^k)+F_{xx}(x^k)Δx^k=0$\n",
        "<br>\n",
        "$Δx^k=-[F_{xx}(x^k)]^{-1}F_x(x^k)$\n",
        "<br>\n",
        "\n",
        "Iteration update,\n",
        "<br>$x^{k+1}=x^k+Δx^k$"
      ]
    },
    {
      "cell_type": "markdown",
      "id": "0ec82e53",
      "metadata": {
        "id": "0ec82e53"
      },
      "source": [
        "#### c)   Name three major problems which arise when using the Newton-Raphson method and explain how Quasi-Newton methods improve every problem. **(6P)**"
      ]
    },
    {
      "cell_type": "markdown",
      "id": "67db7c9b",
      "metadata": {
        "id": "67db7c9b"
      },
      "source": [
        "_your answer here_\n",
        "\n",
        "<br>\n",
        " $F_x(x^*)=0$ is not sufficient optimality condition, it's not necessary that point is minimum it can be maximum or saddle point.\n",
        "<br>\n",
        " $F_{xx}(x^k)$,if hessian is not positive definite at the optimum, the method diverges. also hessian calculations are computationaly expensive, inversion of hessian is impossible for singular or ill conditioned matrix.\n",
        "<br>\n",
        " Divergence of method depends highly on vicinity of initial guess to the local optimum.\n",
        "<br>\n",
        "Quasi-Newton method uses approximation of hessian matrix."
      ]
    },
    {
      "cell_type": "markdown",
      "id": "df0762e3",
      "metadata": {
        "id": "df0762e3"
      },
      "source": [
        "## 3. Programming (56P)"
      ]
    },
    {
      "cell_type": "markdown",
      "id": "Df2qRt0fLU0f",
      "metadata": {
        "id": "Df2qRt0fLU0f"
      },
      "source": [
        "#### a) Formulate the optimization problem. Determine its dimension and degrees of freedom. **(12P)**\n",
        "\n"
      ]
    },
    {
      "cell_type": "markdown",
      "id": "49962236",
      "metadata": {
        "id": "49962236"
      },
      "source": [
        "_your answer here_\n",
        "<br>\n",
        "In order to make code easy to read i have selected this notations for chemicals,\n",
        "<br>\n",
        "$A=C_{12}H_{24}$ (1-dodecene)<br>\n",
        "$B=H_2$<br>\n",
        "$C=CO$<br>\n",
        "$D=C_{13}H_{26}O$ (n-tridecanal)<br>\n",
        "$E=C_{12}H_{26}$ (n-dodecane)\n",
        "\n",
        "<br>\n",
        "objective $Max\\,\\,F(cD)$ <br>\n",
        "considering duality of promblem we can frame it as<br>\n",
        "$Min\\,-F(cD)$,\n",
        "<br>\n",
        "Equality constraints,<br>\n",
        "$0=\\frac{F_{A,in}C_{A,in}}{V_R}-\\frac{F_{out}C_A}{V_R}-r_{hyfo}-r_{hydro}$\n",
        "<br>\n",
        "$0=-\\frac{F_{out}C_D}{V_R}+r_{hyfo}$\n",
        "<br>\n",
        "$0=-\\frac{F_{out}C_E}{V_R}+r_{hydro}$\n",
        "<br>\n",
        "$0=-\\frac{F_{out}C_B}{V_R}+k_La^B(C_{B}^{sat}-C_B)-r_{hyfo}-r_{hydro}$\n",
        "<br>\n",
        "$0=-\\frac{F_{out}C_C}{V_R}+k_La^C(C_{C}^{sat}-C_C)-r_{hyfo}$\n",
        "\n",
        "<br>\n",
        "Non negativity constraint,<br>\n",
        "$0≤C_i; ∀_i\\{A,B,C,D,E\\}$\n",
        "\n",
        "<br>\n",
        "Bounds,<br>\n",
        "$(85+273.15)K≤T≤(135+273.15)K$<br>\n",
        "$1\\,bar≤p≤ 21\\,bar$<br>\n",
        "$0.05≤y_{H2}≤0.8$\n",
        "\n",
        "<br>\n",
        "Decision variables,\n",
        "<br>\n",
        "$C_A,C_B,C_C,C_D,C_E,T,p,y_{H_2}$\n",
        "<br>\n",
        "Degrees of freedom= Number of decision variables - Equality constraints<br>\n",
        "$8-5=3$<br>\n",
        "$Dof=3$\n",
        "<br>"
      ]
    },
    {
      "cell_type": "markdown",
      "id": "KHxpRH7PMNmn",
      "metadata": {
        "id": "KHxpRH7PMNmn"
      },
      "source": [
        "#### b) Solve the non-linear constrained optimization problem with `scipy`. **(18P)**"
      ]
    },
    {
      "cell_type": "markdown",
      "id": "APVz7FZMReHM",
      "metadata": {
        "id": "APVz7FZMReHM"
      },
      "source": [
        "##### Import modules"
      ]
    },
    {
      "cell_type": "code",
      "execution_count": 1,
      "id": "NHe0BG1XRdoX",
      "metadata": {
        "colab": {
          "base_uri": "https://localhost:8080/"
        },
        "id": "NHe0BG1XRdoX",
        "outputId": "e2ad567d-abbe-49bc-bdc7-f2ac2ada21ca"
      },
      "outputs": [
        {
          "output_type": "stream",
          "name": "stdout",
          "text": [
            "Requirement already satisfied: pyomo in /usr/local/lib/python3.10/dist-packages (6.8.2)\n",
            "Requirement already satisfied: ply in /usr/local/lib/python3.10/dist-packages (from pyomo) (3.11)\n"
          ]
        }
      ],
      "source": [
        "import numpy as np\n",
        "import matplotlib.pyplot as plt\n",
        "from scipy import integrate\n",
        "from scipy.optimize import minimize\n",
        "!pip install pyomo\n",
        "import pyomo.environ as pyo"
      ]
    },
    {
      "cell_type": "markdown",
      "id": "_3jcYZT1Rjf5",
      "metadata": {
        "id": "_3jcYZT1Rjf5"
      },
      "source": [
        "##### Parameter definition"
      ]
    },
    {
      "cell_type": "code",
      "execution_count": 2,
      "id": "wUWSk07wlRmy",
      "metadata": {
        "id": "wUWSk07wlRmy"
      },
      "outputs": [],
      "source": [
        "# define parameters\n",
        "H_0_H2 = 6.64e4 # Henry coefficient parameter [(bar*mL)/ mol] for H2\n",
        "H_0_CO = 7.39e4 # Henry coefficient parameter [(bar*mL)/ mol] for CO\n",
        "EA_H_H2 = -3.06e3 # activation energy [J/mol] for calculating Henry coefficient of H2\n",
        "EA_H_CO = -0.84e3 # activation energy [J/mol] for calculating Henry coefficient of CO\n",
        "k_La_H2 = 0.5 # mass transfer coefficient [min^-1] for H2\n",
        "k_La_CO = 7.08 # mass transfer coefficient [min^-1] for CO\n",
        "R_uni = 8.314 # universal gas constant [J/(mol*K)]\n",
        "\n",
        "k_0_hyfo = 4.904e15 # preexponential factor [mL^n/(g*min*mol^n)] hydroformylation r1\n",
        "k_0_hydro = 5.411e8 # preexponential factor [mL^n/(g*min*mol^n)] hydrogenation r2\n",
        "\n",
        "EA_hyfo = 70 # activation energy hydroformylation [kJ/mol] why?\n",
        "EA_hydro = 76.11 # activation energy hydrogenation [kJ/mol] why?\n",
        "\n",
        "T_ref = 105+273.15 # reference temperatur for calculation of reaction rate constants [K]\n",
        "\n",
        "K_hyfo_1 = 574876 # reaction constant hydroformylation [mL/mol]\n",
        "K_hyfo_2 = 3020413 # reaction constant hydroformylation [mL/mol]\n",
        "K_hyfo_3 = 11732838 # reaction constant hydroformylation [mL/mol]\n",
        "\n",
        "K_hydro_1 = 2661.2 # reaction constant hydrogenation [mL/mol]\n",
        "K_hydro_2 = 7100 # reaction constant hydrogenation [mL/mol]\n",
        "K_hydro_3 = 1280 # reaction constant hydrogenation [mL/mol]\n",
        "\n",
        "F_A_in = 0.1 # inlet volume flow 1-dodecene [mL/min]\n",
        "F_out = F_A_in # outlet volume flow (no volume change) [mL/min]\n",
        "\n",
        "c_A_in = 0.1 # inlet concentration 1-dodecene [mol/mL]\n",
        "\n",
        "c_cat_tot = 0.02 # total catalyst concentration [g/mL]\n",
        "K_cat_1 = 3.041e4 # equilibrium constant catalyst [mL/mol]\n",
        "K_cat_2 = 0 # equilibrium constant catalyst [mL/mol]\n",
        "K_cat_3 = 0.644 # equilibrium constant catalyst [mL/mol]\n",
        "\n",
        "V_R = 1800 # reaction volume [mL]"
      ]
    },
    {
      "cell_type": "markdown",
      "id": "xCa9AYjMVlDc",
      "metadata": {
        "id": "xCa9AYjMVlDc"
      },
      "source": [
        "##### Formulate non-linear constrained optimization problem with scipy"
      ]
    },
    {
      "cell_type": "code",
      "execution_count": 3,
      "id": "upA4dA_UVnoD",
      "metadata": {
        "id": "upA4dA_UVnoD",
        "colab": {
          "base_uri": "https://localhost:8080/"
        },
        "outputId": "796b7553-c589-46e3-b813-b4f6bacf9cf0"
      },
      "outputs": [
        {
          "output_type": "stream",
          "name": "stderr",
          "text": [
            "<ipython-input-3-d093ae9fb54e>:38: RuntimeWarning: divide by zero encountered in scalar divide\n",
            "  c_act_cat = (c_cat_tot / (1+ (K_cat_1*cC**K_cat_3) + (K_cat_2*(cC**K_cat_3/cB))))\n",
            "<ipython-input-3-d093ae9fb54e>:38: RuntimeWarning: invalid value encountered in scalar multiply\n",
            "  c_act_cat = (c_cat_tot / (1+ (K_cat_1*cC**K_cat_3) + (K_cat_2*(cC**K_cat_3/cB))))\n"
          ]
        },
        {
          "output_type": "stream",
          "name": "stdout",
          "text": [
            "Solution =   message: Optimization terminated successfully\n",
            " success: True\n",
            "  status: 0\n",
            "     fun: -0.06649242967287576\n",
            "       x: [ 9.302e-04  5.241e-06  1.932e-04  6.649e-02  3.258e-02\n",
            "            4.081e+02  2.100e+01  1.266e-01]\n",
            "     nit: 300\n",
            "     jac: [ 0.000e+00  0.000e+00  0.000e+00 -1.000e+00  0.000e+00\n",
            "           -0.000e+00 -0.000e+00  0.000e+00]\n",
            "    nfev: 3279\n",
            "    njev: 300\n",
            "cA_opt [mol/L] =  0.0009302292418517179\n",
            "cB_opt [mol/L] =  5.24099111090854e-06\n",
            "cC_opt [mol/L] =  0.00019324587273353739\n",
            "cD_opt [mol/L] =  0.06649242967287576\n",
            "cE_opt [mol/L] =  0.03257734108527252\n",
            "T_opt [K] =  408.15\n",
            "p_opt [bar] =  21.0\n",
            "y_H2_opt =  0.1265942841598077\n",
            "cD_opt = 0.06649242967287576\n"
          ]
        }
      ],
      "source": [
        "# objective function\n",
        "def obj_fun(x):\n",
        "    cA = x[0]\n",
        "    cB = x[1]\n",
        "    cC = x[2]\n",
        "    cD = x[3]\n",
        "    cE = x[4]\n",
        "    T = x[5]\n",
        "    p = x[6]\n",
        "    y_H2 = x[7]\n",
        "\n",
        "    # objective\n",
        "    cD_neg = -cD\n",
        "\n",
        "    return cD_neg\n",
        "\n",
        "# steady state CSTR model for 1-dodecene hydroformylation\n",
        "def cstr_model(x):\n",
        "\n",
        "  # unpack inputs\n",
        "    cA = x[0]\n",
        "    cB = x[1]\n",
        "    cC = x[2]\n",
        "    cD = x[3]\n",
        "    cE = x[4]\n",
        "    T = x[5]\n",
        "    p = x[6]\n",
        "    y_H2 = x[7]\n",
        "\n",
        "  # Henry coefficients for H2 and CO [(bar*mL)/mol]\n",
        "    H_H2 = H_0_H2 * np.exp(-EA_H_H2 / (R_uni * T))\n",
        "    H_CO = H_0_CO * np.exp(-EA_H_CO / (R_uni * T))\n",
        "  # saturation concentrations of the gases H2 and CO in the liquid phase [mol/mL]\n",
        "    y_CO = 1 - y_H2\n",
        "    c_sat_H2 = (y_H2 * p) / (H_H2)\n",
        "    c_sat_CO = (y_CO * p) / (H_CO)\n",
        "  # active catalyst concentration\n",
        "    c_act_cat = (c_cat_tot / (1+ (K_cat_1*cC**K_cat_3) + (K_cat_2*(cC**K_cat_3/cB))))\n",
        "  # reaction rate constants\n",
        "    k_hyfo = c_act_cat * k_0_hyfo * np.exp((-EA_hyfo / R_uni) * (1/T-1/T_ref))\n",
        "    k_hydro = c_act_cat * k_0_hydro * np.exp((-EA_hydro / R_uni )* (1/T-1/T_ref))\n",
        "  # reaction rates\n",
        "    r_hyfo = (k_hyfo*cA*cB*cC) / (1+ K_hyfo_1*cA + K_hyfo_2*cD + K_hyfo_3*cB)\n",
        "    r_hydro = (k_hydro*cA*cB) / (1+ K_hydro_1*cA + K_hydro_2*cE + K_hydro_3*cB)\n",
        "  # initialize empty array\n",
        "    RHS = np.zeros(5)\n",
        "\n",
        "  # stationary CSTR system\n",
        "    RHS[0] =   (F_A_in * (c_A_in-cA)/V_R) - r_hyfo - r_hydro\n",
        "    RHS[1] = - ((F_out * cD)/V_R) + r_hyfo\n",
        "    RHS[2] = - ((F_out * cE)/V_R) + r_hydro\n",
        "    RHS[3] = - ((F_out * cB) / V_R) + k_La_H2 * (c_sat_H2 - cB) - r_hyfo - r_hydro\n",
        "    RHS[4] = - ((F_out * cC) / V_R) + k_La_CO * (c_sat_CO - cC) - r_hyfo\n",
        "\n",
        "    return RHS\n",
        "\n",
        "# list all the constraints\n",
        "cons = {'type': 'eq', 'fun': cstr_model}\n",
        "# define bounds on all decision variables\n",
        "bnds = ([0, np.inf], [0, np.inf], [0, np.inf], [0, np.inf], [0, np.inf], [85 + 273.15, 135 + 273.15], [1 , 21], [0.05 , 0.8])\n",
        "# set up starting values for optimization\n",
        "x_0 = np.array([1e-9, 0.01, 0.01, 0.01, 0.01, 100+273.15, 15, 0.5])\n",
        "\n",
        "# solve the optimization problem\n",
        "res = minimize(obj_fun, x_0, method='SLSQP', bounds=bnds, constraints=cons, options={'ftol':1e-12, 'maxiter': 1e4})\n",
        "\n",
        "# print the results\n",
        "print('Solution = ', res)\n",
        "print('cA_opt [mol/L] = ', str(res.x[0]))\n",
        "print('cB_opt [mol/L] = ', str(res.x[1]))\n",
        "print('cC_opt [mol/L] = ', str(res.x[2]))\n",
        "print('cD_opt [mol/L] = ', str(res.x[3]))\n",
        "print('cE_opt [mol/L] = ', str(res.x[4]))\n",
        "print('T_opt [K] = ', str(res.x[5]))\n",
        "print('p_opt [bar] = ', str(res.x[6]))\n",
        "print('y_H2_opt = ', str(res.x[7]))\n",
        "print('cD_opt =', str(-res.fun))\n"
      ]
    },
    {
      "cell_type": "markdown",
      "id": "kKeS1UYtMtBI",
      "metadata": {
        "id": "kKeS1UYtMtBI"
      },
      "source": [
        "#### c) Solve the optimization problem for different values of total catalyst concentration and plot the results.  **(8P)**"
      ]
    },
    {
      "cell_type": "code",
      "execution_count": 4,
      "id": "QZ0OlpV4Mwjk",
      "metadata": {
        "id": "QZ0OlpV4Mwjk",
        "colab": {
          "base_uri": "https://localhost:8080/",
          "height": 541
        },
        "outputId": "b9259605-f345-4cef-d0ac-dbb230cc8af3"
      },
      "outputs": [
        {
          "output_type": "stream",
          "name": "stderr",
          "text": [
            "<ipython-input-3-d093ae9fb54e>:38: RuntimeWarning: divide by zero encountered in scalar divide\n",
            "  c_act_cat = (c_cat_tot / (1+ (K_cat_1*cC**K_cat_3) + (K_cat_2*(cC**K_cat_3/cB))))\n",
            "<ipython-input-3-d093ae9fb54e>:38: RuntimeWarning: invalid value encountered in scalar multiply\n",
            "  c_act_cat = (c_cat_tot / (1+ (K_cat_1*cC**K_cat_3) + (K_cat_2*(cC**K_cat_3/cB))))\n"
          ]
        },
        {
          "output_type": "display_data",
          "data": {
            "text/plain": [
              "<Figure size 640x480 with 1 Axes>"
            ],
            "image/png": "[encoded data removed]"
          },
          "metadata": {}
        }
      ],
      "source": [
        "# list of parameter values for c_cat_tot\n",
        "c_cat_tot_values = np.linspace(0.01, 0.05, 10) # range of c_cat_tot values\n",
        "cD_results = [] # initialize empty list to store results\n",
        "T_results = [] # initialize empty list to store results\n",
        "\n",
        "# solve the optimization problem for each c_cat_tot\n",
        "for c_cat_tot in c_cat_tot_values:\n",
        "    res = minimize(obj_fun, x_0, method='SLSQP', bounds=bnds, constraints=cons, options={'ftol': 1e-12, 'maxiter': 1e4})\n",
        "    if res.success:\n",
        "        cD_results.append(-res.fun)  # Append the optimized `cD`\n",
        "        T_results.append(res.x[5])  # Append the optimized temperature (optional)\n",
        "    else:\n",
        "        cD_results.append(None)  # Append None if optimization fails\n",
        "        T_results.append(None)  # Append None if optimization fails\n",
        "\n",
        "# plot results\n",
        "plt.figure()\n",
        "plt.plot(c_cat_tot_values, cD_results, 'o-', label='Optimized cD')\n",
        "\n",
        "plt.title('Optimized cD for diffrent values of c_cat_tot')\n",
        "\n",
        "plt.xlabel('c_cat_tot [mol/L]')\n",
        "plt.ylabel('cD_opt [mol/L]')\n",
        "plt.legend()\n",
        "plt.show()"
      ]
    },
    {
      "cell_type": "markdown",
      "id": "UPyxbuHfmLDY",
      "metadata": {
        "id": "UPyxbuHfmLDY"
      },
      "source": [
        "#### d) Formulate the mixed integer optimization problem in `pyomo`. **(18P)**"
      ]
    },
    {
      "cell_type": "code",
      "execution_count": 6,
      "id": "855b27c9",
      "metadata": {
        "id": "855b27c9"
      },
      "outputs": [],
      "source": [
        "# reset total catalyst concentration to original value\n",
        "c_cat_tot = 0.02"
      ]
    },
    {
      "cell_type": "code",
      "execution_count": 7,
      "id": "hjGN254MqtmE",
      "metadata": {
        "id": "hjGN254MqtmE",
        "colab": {
          "base_uri": "https://localhost:8080/"
        },
        "outputId": "4ba0aa93-d15d-4b0b-8f55-dfa2002b5b25"
      },
      "outputs": [
        {
          "output_type": "stream",
          "name": "stdout",
          "text": [
            "Collecting idaes-pse\n",
            "  Downloading idaes_pse-2.7.0-py3-none-any.whl.metadata (8.3 kB)\n",
            "Requirement already satisfied: pyomo>=6.8.2 in /usr/local/lib/python3.10/dist-packages (from idaes-pse) (6.8.2)\n",
            "Collecting pint>=0.24.1 (from idaes-pse)\n",
            "  Downloading Pint-0.24.4-py3-none-any.whl.metadata (8.5 kB)\n",
            "Requirement already satisfied: networkx in /usr/local/lib/python3.10/dist-packages (from idaes-pse) (3.4.2)\n",
            "Requirement already satisfied: numpy<3,>=1 in /usr/local/lib/python3.10/dist-packages (from idaes-pse) (1.26.4)\n",
            "Requirement already satisfied: pandas!=2.1.0,<3 in /usr/local/lib/python3.10/dist-packages (from idaes-pse) (2.2.2)\n",
            "Requirement already satisfied: scipy in /usr/local/lib/python3.10/dist-packages (from idaes-pse) (1.13.1)\n",
            "Requirement already satisfied: sympy in /usr/local/lib/python3.10/dist-packages (from idaes-pse) (1.13.1)\n",
            "Requirement already satisfied: matplotlib in /usr/local/lib/python3.10/dist-packages (from idaes-pse) (3.10.0)\n",
            "Requirement already satisfied: click>=8 in /usr/local/lib/python3.10/dist-packages (from idaes-pse) (8.1.8)\n",
            "Requirement already satisfied: python-dateutil>=2.8.2 in /usr/local/lib/python3.10/dist-packages (from pandas!=2.1.0,<3->idaes-pse) (2.8.2)\n",
            "Requirement already satisfied: pytz>=2020.1 in /usr/local/lib/python3.10/dist-packages (from pandas!=2.1.0,<3->idaes-pse) (2024.2)\n",
            "Requirement already satisfied: tzdata>=2022.7 in /usr/local/lib/python3.10/dist-packages (from pandas!=2.1.0,<3->idaes-pse) (2024.2)\n",
            "Requirement already satisfied: platformdirs>=2.1.0 in /usr/local/lib/python3.10/dist-packages (from pint>=0.24.1->idaes-pse) (4.3.6)\n",
            "Requirement already satisfied: typing-extensions>=4.0.0 in /usr/local/lib/python3.10/dist-packages (from pint>=0.24.1->idaes-pse) (4.12.2)\n",
            "Collecting flexcache>=0.3 (from pint>=0.24.1->idaes-pse)\n",
            "  Downloading flexcache-0.3-py3-none-any.whl.metadata (7.0 kB)\n",
            "Collecting flexparser>=0.4 (from pint>=0.24.1->idaes-pse)\n",
            "  Downloading flexparser-0.4-py3-none-any.whl.metadata (18 kB)\n",
            "Requirement already satisfied: ply in /usr/local/lib/python3.10/dist-packages (from pyomo>=6.8.2->idaes-pse) (3.11)\n",
            "Requirement already satisfied: contourpy>=1.0.1 in /usr/local/lib/python3.10/dist-packages (from matplotlib->idaes-pse) (1.3.1)\n",
            "Requirement already satisfied: cycler>=0.10 in /usr/local/lib/python3.10/dist-packages (from matplotlib->idaes-pse) (0.12.1)\n",
            "Requirement already satisfied: fonttools>=4.22.0 in /usr/local/lib/python3.10/dist-packages (from matplotlib->idaes-pse) (4.55.3)\n",
            "Requirement already satisfied: kiwisolver>=1.3.1 in /usr/local/lib/python3.10/dist-packages (from matplotlib->idaes-pse) (1.4.8)\n",
            "Requirement already satisfied: packaging>=20.0 in /usr/local/lib/python3.10/dist-packages (from matplotlib->idaes-pse) (24.2)\n",
            "Requirement already satisfied: pillow>=8 in /usr/local/lib/python3.10/dist-packages (from matplotlib->idaes-pse) (11.1.0)\n",
            "Requirement already satisfied: pyparsing>=2.3.1 in /usr/local/lib/python3.10/dist-packages (from matplotlib->idaes-pse) (3.2.1)\n",
            "Requirement already satisfied: mpmath<1.4,>=1.1.0 in /usr/local/lib/python3.10/dist-packages (from sympy->idaes-pse) (1.3.0)\n",
            "Requirement already satisfied: six>=1.5 in /usr/local/lib/python3.10/dist-packages (from python-dateutil>=2.8.2->pandas!=2.1.0,<3->idaes-pse) (1.17.0)\n",
            "Downloading idaes_pse-2.7.0-py3-none-any.whl (5.4 MB)\n",
            "\u001b[2K   \u001b[90m━━━━━━━━━━━━━━━━━━━━━━━━━━━━━━━━━━━━━━━━\u001b[0m \u001b[32m5.4/5.4 MB\u001b[0m \u001b[31m41.9 MB/s\u001b[0m eta \u001b[36m0:00:00\u001b[0m\n",
            "\u001b[?25hDownloading Pint-0.24.4-py3-none-any.whl (302 kB)\n",
            "\u001b[2K   \u001b[90m━━━━━━━━━━━━━━━━━━━━━━━━━━━━━━━━━━━━━━━━\u001b[0m \u001b[32m302.0/302.0 kB\u001b[0m \u001b[31m19.5 MB/s\u001b[0m eta \u001b[36m0:00:00\u001b[0m\n",
            "\u001b[?25hDownloading flexcache-0.3-py3-none-any.whl (13 kB)\n",
            "Downloading flexparser-0.4-py3-none-any.whl (27 kB)\n",
            "Installing collected packages: flexparser, flexcache, pint, idaes-pse\n",
            "Successfully installed flexcache-0.3 flexparser-0.4 idaes-pse-2.7.0 pint-0.24.4\n",
            "Getting files...\n",
            "Done\n",
            "---------------------------------------------------\n",
            "IDAES Extensions Build Versions\n",
            "===================================================\n",
            "Solvers:  v3.4.2 20240811 ubuntu2204-x86_64\n",
            "Library:  v3.4.2 20240811 ubuntu2204-x86_64\n",
            "===================================================\n"
          ]
        }
      ],
      "source": [
        "# install optimization solvers from idaes python package to be used for optimization with pyomo\n",
        "import sys\n",
        "import os\n",
        "import numpy as np\n",
        "from pyomo.environ import *\n",
        "from pyomo.opt import SolverFactory\n",
        "\n",
        "if 'google.colab' in sys.modules:\n",
        "    !pip install idaes-pse --pre\n",
        "    !idaes get-extensions --to ./bin\n",
        "    os.environ['PATH'] += ':bin'\n",
        "\n",
        "# please use the following commands if you are running python locally on your computer\n",
        "# !pip install idaes-pse\n",
        "# !idaes get-extensions"
      ]
    },
    {
      "cell_type": "code",
      "execution_count": 8,
      "id": "2fUZ2Qglyfk8",
      "metadata": {
        "id": "2fUZ2Qglyfk8",
        "colab": {
          "base_uri": "https://localhost:8080/"
        },
        "outputId": "6f639231-eee6-4b0c-fe29-d74f373d5964"
      },
      "outputs": [
        {
          "output_type": "stream",
          "name": "stdout",
          "text": [
            "Bonmin 1.8.8 using Cbc 2.10.10 and Ipopt 3.13.2\n",
            "bonmin: \n",
            "\n",
            "******************************************************************************\n",
            "This program contains Ipopt, a library for large-scale nonlinear optimization.\n",
            " Ipopt is released as open source code under the Eclipse Public License (EPL).\n",
            "         For more information visit http://projects.coin-or.org/Ipopt\n",
            "\n",
            "This version of Ipopt was compiled from source code available at\n",
            "    https://github.com/IDAES/Ipopt as part of the Institute for the Design of\n",
            "    Advanced Energy Systems Process Systems Engineering Framework (IDAES PSE\n",
            "    Framework) Copyright (c) 2018-2019. See https://github.com/IDAES/idaes-pse.\n",
            "\n",
            "This version of Ipopt was compiled using HSL, a collection of Fortran codes\n",
            "    for large-scale scientific computation.  All technical papers, sales and\n",
            "    publicity material resulting from use of the HSL codes within IPOPT must\n",
            "    contain the following acknowledgement:\n",
            "        HSL, a collection of Fortran codes for large-scale scientific\n",
            "        computation. See http://www.hsl.rl.ac.uk.\n",
            "******************************************************************************\n",
            "\n",
            "NLP0012I \n",
            "              Num      Status      Obj             It       time                 Location\n",
            "NLP0014I             1         OPT -0.06649243       16 0.00601\n",
            "NLP0012I \n",
            "              Num      Status      Obj             It       time                 Location\n",
            "NLP0014I             1         OPT -0.06649243       15 0.007477\n",
            "NLP0014I             2         OPT -0.065975418       12 0.007007\n",
            "NLP0014I             3         OPT -0.06597542       42 0.021979\n",
            "NLP0012I \n",
            "              Num      Status      Obj             It       time                 Location\n",
            "NLP0014I             1         OPT -0.065975428       33 0.010867\n",
            "Cbc0012I Integer solution of -0.065975428 found by DiveMIPFractional after 0 iterations and 0 nodes (0.05 seconds)\n",
            "NLP0014I             2         OPT -0.065975418       12 0.005898\n",
            "NLP0014I             3         OPT -0.065849571       12 0.005523\n",
            "NLP0014I             4         OPT -0.06649243       12 0.004592\n",
            "NLP0014I             5         OPT -0.065975418       13 0.004487\n",
            "NLP0014I             6         OPT -0.06649243       15 0.006423\n",
            "NLP0014I             7      INFEAS 2.5834618e-06       46 0.028135\n",
            "NLP0014I             8      INFEAS 1       27 0.018578\n",
            "Cbc0001I Search completed - best objective -0.06597542834969147, took 27 iterations and 0 nodes (0.13 seconds)\n",
            "Cbc0032I Strong branching done 3 times (110 iterations), fathomed 0 nodes and fixed 2 variables\n",
            "Cbc0035I Maximum depth 0, 0 variables fixed on reduced cost\n",
            "\b\b\b\b\b\b\b\b\n",
            " \t\"Finished\"\n",
            "cA = 0.0023949198877026203\n",
            "cB = 1.990516725824358e-06\n",
            "cC = 0.00019914995191552704\n",
            "cD = 0.06597542834969147\n",
            "cE = 0.03162967121654296\n",
            "T = 408.15\n",
            "p = 21.0\n",
            "y_H2_1 = 0.0\n",
            "y_H2_2 = 1.0\n",
            "y_H2_3 = 0.0\n",
            "Objective = -0.06597542834969147\n"
          ]
        }
      ],
      "source": [
        "# set up concrete pyomo model\n",
        "model=pyo.ConcreteModel()\n",
        "# define decision variables with bounds\n",
        "model.cA=pyo.Var(bounds=(1e-6,np.inf))\n",
        "model.cB=pyo.Var(bounds=(1e-6,np.inf))\n",
        "model.cC=pyo.Var(bounds=(1e-6,np.inf))\n",
        "model.cD=pyo.Var(bounds=(0,np.inf))\n",
        "model.cE=pyo.Var(bounds=(1e-6,np.inf))\n",
        "model.T=pyo.Var(bounds=(85+273.15,135+273.15))\n",
        "model.p=pyo.Var(bounds=(1,21))\n",
        "# define binary decision variables\n",
        "model.y_H2_1 = pyo.Var(within=pyo.Binary)  # Binary variable for y_H2_1 = 0.05\n",
        "model.y_H2_2 = pyo.Var(within=pyo.Binary)  # Binary variable for y_H2_2 = 0.1\n",
        "model.y_H2_3 = pyo.Var(within=pyo.Binary)  # Binary variable for y_H2_3 = 0.2\n",
        "\n",
        "# define objective function\n",
        "def obj_fun(model):\n",
        "        return -model.cD\n",
        "model.obj_fun_ = pyo.Objective(rule=obj_fun, sense=pyo.minimize)\n",
        "\n",
        "# Henry coefficients for H2 and CO [(bar*mL)/mol]\n",
        "H_H2 = H_0_H2 * pyo.exp(-EA_H_H2 / (R_uni * model.T))\n",
        "H_CO = H_0_CO * pyo.exp(-EA_H_CO / (R_uni * model.T))\n",
        "# saturation concentrations of the gases H2 and CO in the liquid phase [mol/mL]\n",
        "y_CO = 1 - (model.y_H2_1*0.05 + model.y_H2_2*0.1 + model.y_H2_3*0.2)\n",
        "c_sat_H2 = ((model.y_H2_1*0.05 + model.y_H2_2*0.1 + model.y_H2_3*0.2) * model.p) / (H_H2)\n",
        "c_sat_CO = (y_CO * model.p) / (H_CO)\n",
        "# active catalyst concentration\n",
        "c_act_cat = (c_cat_tot / (1+ (K_cat_1*model.cC**K_cat_3) + (K_cat_2*(model.cC**K_cat_3/model.cB))))\n",
        "# reaction rate constants\n",
        "k_hyfo = c_act_cat * k_0_hyfo * pyo.exp((-EA_hyfo / R_uni) * (1/model.T-1/T_ref))\n",
        "k_hydro = c_act_cat * k_0_hydro * pyo.exp((-EA_hydro / R_uni )* (1/model.T-1/T_ref))\n",
        "# reaction rates\n",
        "r_hyfo = (k_hyfo*model.cA*model.cB*model.cC) / (1+ K_hyfo_1*model.cA + K_hyfo_2*model.cD + K_hyfo_3*model.cB)\n",
        "r_hydro = (k_hydro*model.cA*model.cB) / (1+ K_hydro_1*model.cA + K_hydro_2*model.cE + K_hydro_3*model.cB)\n",
        "\n",
        "# define steady state CSTR equality constraints\n",
        "def con1_rule(model):\n",
        "        return (F_A_in * (c_A_in-model.cA)/V_R) - r_hyfo - r_hydro == 0\n",
        "def con2_rule(model):\n",
        "        return (-(F_out * model.cD)/V_R) + r_hyfo == 0\n",
        "def con3_rule(model):\n",
        "        return (-(F_out * model.cE)/V_R) + r_hydro == 0\n",
        "def con4_rule(model):\n",
        "        return (-(F_out * model.cB) / V_R) + k_La_H2 * (c_sat_H2 - model.cB) - r_hyfo - r_hydro == 0\n",
        "def con5_rule(model):\n",
        "        return (-(F_out * model.cC) / V_R) + k_La_CO * (c_sat_CO - model.cC) - r_hyfo == 0\n",
        "\n",
        "# add constraints to concrete model\n",
        "model.con1 = pyo.Constraint(rule=con1_rule)\n",
        "model.con2 = pyo.Constraint(rule=con2_rule)\n",
        "model.con3 = pyo.Constraint(rule=con3_rule)\n",
        "model.con4 = pyo.Constraint(rule=con4_rule)\n",
        "model.con5 = pyo.Constraint(rule=con5_rule)\n",
        "\n",
        "# add constraints to link binary variables to y_H2\n",
        "def y_H2_definition(model):\n",
        "        return (model.y_H2_1 * 0.05 + model.y_H2_2 * 0.1 + model.y_H2_3 * 0.2) <= 0.2\n",
        "model.y_H2_value = pyo.Constraint(rule=y_H2_definition)\n",
        "\n",
        "# add constraint to ensure only one binary variable is active\n",
        "def only_one_value(model):\n",
        "        return model.y_H2_1 + model.y_H2_2 + model.y_H2_3 == 1\n",
        "model.only_one_y_H2_value = pyo.Constraint(rule=only_one_value)\n",
        "\n",
        "# solve the optimization problem\n",
        "solver = SolverFactory('bonmin')\n",
        "results = solver.solve(model, tee=True)\n",
        "# display results\n",
        "print(f\"cA = {model.cA.value}\")\n",
        "print(f\"cB = {model.cB.value}\")\n",
        "print(f\"cC = {model.cC.value}\")\n",
        "print(f\"cD = {model.cD.value}\")\n",
        "print(f\"cE = {model.cE.value}\")\n",
        "print(f\"T = {model.T.value}\")\n",
        "print(f\"p = {model.p.value}\")\n",
        "print(f\"y_H2_1 = {model.y_H2_1.value}\")\n",
        "print(f\"y_H2_2 = {model.y_H2_2.value}\")\n",
        "print(f\"y_H2_3 = {model.y_H2_3.value}\")\n",
        "\n",
        "print(f\"Objective = {model.obj_fun_()}\")"
      ]
    }
  ],
  "metadata": {
    "colab": {
      "provenance": [],
      "collapsed_sections": [
        "be48caea",
        "60aa4df6",
        "Df2qRt0fLU0f",
        "KHxpRH7PMNmn",
        "kKeS1UYtMtBI"
      ]
    },
    "kernelspec": {
      "display_name": "Python 3 (ipykernel)",
      "language": "python",
      "name": "python3"
    },
    "language_info": {
      "codemirror_mode": {
        "name": "ipython",
        "version": 3
      },
      "file_extension": ".py",
      "mimetype": "text/x-python",
      "name": "python",
      "nbconvert_exporter": "python",
      "pygments_lexer": "ipython3",
      "version": "3.10.12"
    }
  },
  "nbformat": 4,
  "nbformat_minor": 5
}
